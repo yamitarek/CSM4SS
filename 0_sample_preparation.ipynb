{
 "cells": [
  {
   "cell_type": "markdown",
   "source": [
    "# Sample Preparation\n",
    "\n",
    "This notebook is part of the project 'Continuous State Modeling for Statistical Spectral Synthesis'.\n",
    "\n"
   ],
   "metadata": {}
  },
  {
   "cell_type": "markdown",
   "source": [
    "## Imports\n",
    "Import the relevant moduls and functions"
   ],
   "metadata": {}
  },
  {
   "cell_type": "code",
   "execution_count": 3,
   "source": [
    "import CSM_functions as csm\n",
    "import numpy as np\n",
    "import os\n"
   ],
   "outputs": [],
   "metadata": {}
  },
  {
   "cell_type": "markdown",
   "source": [
    "## Paths\n",
    "All relevant paths should be declared here.\n",
    "You might have to reassign some of these."
   ],
   "metadata": {}
  },
  {
   "cell_type": "code",
   "execution_count": 4,
   "source": [
    "# path of notebook\n",
    "path_nb = os.getcwd()\n",
    "\n",
    "# path to the list_single.txt file\n",
    "path_frequency = '../TU-Note_Violin/File_Lists/list_Single.txt'\n",
    "\n",
    "#path to the segmentation file\n",
    "path_annotations = '../TU-Note_Violin/Segments/SingleSounds/SampLib_DPA_'\n",
    "\n",
    "#path to audio files TU-Note Violin Sample Lirary is in 96k\n",
    "path_soundfile_96k = '../TU-Note_Violin/WAV/SingleSounds/BuK/SampLib_BuK_'\n",
    "\n",
    "#path to audio files in 44.1k\n",
    "#path_soundfile = '/Users/tim-tarek/Desktop/TU-Note_Violin_41kHz/WAV/SingleSounds/BuK/SampLib_BuK_'\n",
    "path_soundfile = os.path.join(path_nb,\"input44100/sounds/\")\n",
    "\n",
    "#output path to extracted parameters \n",
    "path_extracted = os.path.join(path_nb,\"extracted_parameters\")\n"
   ],
   "outputs": [],
   "metadata": {}
  },
  {
   "cell_type": "markdown",
   "source": [
    "## Convert Samples to 44.1kHz\n"
   ],
   "metadata": {}
  },
  {
   "cell_type": "code",
   "execution_count": 5,
   "source": [
    "#file_indices = np.linspace(1,84*4, 84*4)\n",
    "file_indices = np.array([1])\n",
    "csm.batch_convert_to_44100(file_indices, path_in=path_soundfile_96k, path_out= path_soundfile)"
   ],
   "outputs": [
    {
     "output_type": "stream",
     "name": "stdout",
     "text": [
      "1\n"
     ]
    }
   ],
   "metadata": {}
  },
  {
   "cell_type": "markdown",
   "source": [
    "## Extract relevant information from TU-Note Violin Sample Library\n",
    "The frequencies contained in the list_Single.txt file will help us narrow down the range of the fundamental frequency.\n",
    "\n",
    "Here is how you can extract the fundamental frequency."
   ],
   "metadata": {}
  },
  {
   "cell_type": "code",
   "execution_count": 10,
   "source": [
    "list_single = csm.read_list_single_TU_VSL(path_frequency)\n",
    "frequency_test = csm.read_frequency_TU_VSL(list_single, index = 1)\n",
    "print(frequency_test)"
   ],
   "outputs": [
    {
     "output_type": "stream",
     "name": "stdout",
     "text": [
      "197.33\n"
     ]
    }
   ],
   "metadata": {}
  },
  {
   "cell_type": "markdown",
   "source": [
    "Now we can extract the envelope annotation from the TU-Note Violin Sample Library\n"
   ],
   "metadata": {}
  },
  {
   "cell_type": "code",
   "execution_count": 11,
   "source": [
    "start_sec, stop_sec = csm.read_annotations_TU_VSL(path_annotations, index = 96)\n",
    "start_samp, stop_samp = int(start_sec*44100), int(stop_sec*44100)\n",
    "print(\"Start: \", start_sec, \" sec, \", start_samp, \" samples. \\nStop: \", stop_sec, \" sec,\", stop_samp, \" samples.\")"
   ],
   "outputs": [
    {
     "output_type": "stream",
     "name": "stdout",
     "text": [
      "Start:  0.205333  sec,  9055  samples. \n",
      "Stop:  4.898667  sec, 216031  samples.\n"
     ]
    }
   ],
   "metadata": {}
  },
  {
   "cell_type": "markdown",
   "source": [
    "## Extract Parameters\n",
    "Now we can put everything together:\n",
    "\n",
    "We read the list_single file into memory.\n",
    "\n",
    "Then we create a list of sound item indices, through which we iterate.\n",
    "\n",
    "For every sound item we now read the frequency as well as start and stop annotations for the sustain part.\n",
    "\n",
    "The ```csm.write_parameter()``` function now writes the statistical parameters of the partial trajectories (mean amp, std amp, std freq) into txt files."
   ],
   "metadata": {}
  },
  {
   "cell_type": "code",
   "execution_count": 4,
   "source": [
    "#only needed to be read once, so out of loop\n",
    "list_single = csm.read_list_single_TU_VSL(path_frequency)\n",
    "\n",
    "#put indices of sound items you want to read in list\n",
    "#list_items = [1]\n",
    "list_items = np.linspace(1,84*4, 84*4)\n",
    "\n",
    "for index in list_items:\n",
    "    index = int(index)\n",
    "    #read frequency from list_single.txt\n",
    "    frequency_f0 = csm.read_frequency_TU_VSL(list_single, index)\n",
    "\n",
    "    #read start and stop sample indices from annotation file \n",
    "    start_sec, stop_sec = csm.read_annotations_TU_VSL(path_annotations, index)\n",
    "    start_samp, stop_samp = int(start_sec*44100), int(stop_sec*44100)\n",
    "\n",
    "    #enter sms-tools parameters\n",
    "    window='blackman'\n",
    "    M=1201\n",
    "    N=2048\n",
    "    t=-110\n",
    "    minSineDur=0.05\n",
    "    nH=100\n",
    "    minf0= 1/1.2 * frequency_f0\n",
    "    maxf0= 1.2 * frequency_f0\n",
    "    f0et=7 \n",
    "    harmDevSlope=0.01\n",
    "    Ns = 512\n",
    "    H = 128\n",
    "\n",
    "    #write to file\n",
    "    csm.write_parameters(path_soundfile_96k, \n",
    "                         path_extracted,  \n",
    "                         frequency_f0, \n",
    "                         index, \n",
    "                         start_samp, \n",
    "                         stop_samp, \n",
    "                         window, \n",
    "                         M, \n",
    "                         N, \n",
    "                         t, \n",
    "                         minSineDur, \n",
    "                         nH, \n",
    "                         minf0, \n",
    "                         maxf0, \n",
    "                         f0et, \n",
    "                         harmDevSlope, \n",
    "                         Ns, \n",
    "                         H, \n",
    "                         verbose = False)"
   ],
   "outputs": [
    {
     "output_type": "stream",
     "name": "stderr",
     "text": [
      "/Users/tim-tarek/Desktop/CSM4SS/CSM_functions.py:142: WavFileWarning: Chunk (non-data) not understood, skipping it.\n",
      "  (fs, x) = read(input_path)\n"
     ]
    }
   ],
   "metadata": {
    "scrolled": false
   }
  },
  {
   "cell_type": "markdown",
   "source": [
    "## Refine parameters\n",
    "\n",
    "Some settings do not work for all 336 items. Especially high and quiet sounds tend to fail using parameters tuned to lower and louder items.\n",
    "Quieter sound items also tend to have an unstable pitch trajectory. Here the maximum f0 error threshold can be raised.\n",
    "For these I suggest the following parameters:\n",
    "M: 201 (high) 2001 (low)\n",
    "N: 512 (high) 4096 (low)\n",
    "t: -110\n",
    "minSineDur: 0.01\n",
    "nH: 100\n",
    "minf0: 1/1.2 * frequency_f0\n",
    "maxf0: 1.2 * frequency_f0\n",
    "f0et: 40\n",
    "harmDevSlope: 0.01\n",
    "\n",
    "It could also help to switch to the 96k version of the soundfiles. For this it makes sense to increase FFT size Ns and hopsize H by * 2.\n",
    "\n",
    "\n",
    "\n"
   ],
   "metadata": {}
  },
  {
   "cell_type": "code",
   "execution_count": 62,
   "source": [
    "#only needed to be read once, so out of loop\n",
    "list_single = csm.read_list_single_TU_VSL(path_frequency)\n",
    "\n",
    "#put indices of sound items you want to read in list\n",
    "list_bad_items = np.arange(62, 63 )\n",
    "\n",
    "#list_bad_items = np.arange(175,337)\n",
    "\n",
    "for index in list_bad_items:\n",
    "    index = int(index)\n",
    "    \n",
    "    #read frequency from list_single.txt\n",
    "    frequency_f0 = csm.read_frequency_TU_VSL(list_single, index)\n",
    "\n",
    "    #read start and stop sample indices from annotation file \n",
    "    start_sec, stop_sec = csm.read_annotations_TU_VSL(path_annotations, index)\n",
    "    start_samp, stop_samp = int(start_sec*44100), int(stop_sec*44100)\n",
    "\n",
    "    #enter sms-tools parameters\n",
    "    window='blackman'\n",
    "    M=2001\n",
    "    N=4096\n",
    "    t=-110\n",
    "    minSineDur=0.01\n",
    "    nH=100\n",
    "    minf0= 1/1.7 * frequency_f0\n",
    "    maxf0= 1.7 * frequency_f0\n",
    "    f0et=80\n",
    "    harmDevSlope=0.01 \n",
    "    Ns = 512*2\n",
    "    H = 128*2\n",
    "\n",
    "    #write to file\n",
    "    csm.write_parameters(path_soundfile_96k, \n",
    "                         path_extracted,  \n",
    "                         frequency_f0, \n",
    "                         index, \n",
    "                         start_samp, \n",
    "                         stop_samp, \n",
    "                         window, \n",
    "                         M, \n",
    "                         N, \n",
    "                         t, \n",
    "                         minSineDur, \n",
    "                         nH, \n",
    "                         minf0, \n",
    "                         maxf0, \n",
    "                         f0et, \n",
    "                         harmDevSlope, \n",
    "                         Ns, \n",
    "                         H, \n",
    "                         verbose = False)"
   ],
   "outputs": [],
   "metadata": {}
  }
 ],
 "metadata": {
  "kernelspec": {
   "name": "python3",
   "display_name": "Python 3.7.11 64-bit (conda)"
  },
  "language_info": {
   "codemirror_mode": {
    "name": "ipython",
    "version": 3
   },
   "file_extension": ".py",
   "mimetype": "text/x-python",
   "name": "python",
   "nbconvert_exporter": "python",
   "pygments_lexer": "ipython3",
   "version": "3.7.11"
  },
  "interpreter": {
   "hash": "92f8f3e49b1beac8c09f81e07cb00b736711229fb5a7ca0a5fed05c874713b96"
  }
 },
 "nbformat": 4,
 "nbformat_minor": 5
}