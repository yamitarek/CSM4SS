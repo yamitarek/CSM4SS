{
 "cells": [
  {
   "cell_type": "markdown",
   "source": [
    "# Sample Creation\n",
    "\n",
    "This notebook is part of the project 'Continuous State Modeling for Statistical Spectral Synthesis'.\n",
    "\n"
   ],
   "metadata": {}
  },
  {
   "cell_type": "code",
   "execution_count": 2,
   "source": [
    "import CSM_functions as csm\n",
    "import numpy as np\n",
    "import os\n"
   ],
   "outputs": [],
   "metadata": {}
  },
  {
   "cell_type": "markdown",
   "source": [
    "## Paths\n",
    "All relevant paths should be declared here.\n",
    "You might have to reassign some of these."
   ],
   "metadata": {}
  },
  {
   "cell_type": "code",
   "execution_count": 3,
   "source": [
    "# path of notebook\n",
    "path_nb = os.getcwd()\n",
    "\n",
    "# path to the list_single.txt file\n",
    "path_frequency = '../TU-Note_Violin/File_Lists/list_Single.txt'\n",
    "\n",
    "#path to the segmentation file\n",
    "path_annotations = '../TU-Note_Violin/Segments/SingleSounds/SampLib_DPA_'\n",
    "\n",
    "#output path to extracted parameters \n",
    "path_extracted = os.path.join(path_nb,\"extracted_parameters\")\n",
    "path_amp = os.path.join(path_extracted,\"mean_partial_amps/\")\n",
    "path_vol = os.path.join(path_extracted,\"mean_amp/\")\n",
    "\n",
    "#output path for created soundfiles\n",
    "path_output_scaled = os.path.join(path_nb,\"output/scaled/\")\n",
    "path_output_skew = os.path.join(path_nb,\"output/skew/\")\n",
    "\n",
    "\n",
    "\n"
   ],
   "outputs": [],
   "metadata": {}
  },
  {
   "cell_type": "markdown",
   "source": [
    "## Create relevant objects\n",
    "\n",
    "Crete the inputs needed for markovian synthesis."
   ],
   "metadata": {}
  },
  {
   "cell_type": "code",
   "execution_count": 4,
   "source": [
    "list_single = csm.read_list_single_TU_VSL(path_frequency)\n",
    "#list_indices = [1,2,3,4,  49,50,51,52,   93,94,95,96,    141,142,143,144,   229,230,231,232,    277,278,279,280,      325,326,327,328]\n",
    "#list_indices = [96]\n",
    "list_indices = np.linspace(1,84*4, 84*4).astype(int)\n",
    "\n"
   ],
   "outputs": [],
   "metadata": {}
  },
  {
   "cell_type": "markdown",
   "source": [
    "## Scaled Markov"
   ],
   "metadata": {}
  },
  {
   "cell_type": "code",
   "execution_count": 5,
   "source": [
    "#list_indices = np.arange(175, 337)\n",
    "csm.markov_scaled_normal_synthesis(list_indices=list_indices, \n",
    "                                    list_single=list_single, \n",
    "                                    path_amp = path_amp,\n",
    "                                    path_vol=path_vol,\n",
    "                                    path_output = path_output_scaled,\n",
    "                                    alpha_f0 = 0.001,\n",
    "                                    alpha_amp=0.001,\n",
    "                                    sigma_f0=0.004,\n",
    "                                    sigma_amp = 0.02, \n",
    "\t\t\t\t\t\t\t\t\tnum_samples = 600,\n",
    "\t\t\t\t\t\t\t\t\tlen_support_points = 512,\n",
    "\t\t\t\t\t\t\t\t\tsr = 44100,\n",
    "\t\t\t\t\t\t\t\t\tnum_partials = 80)"
   ],
   "outputs": [
    {
     "output_type": "display_data",
     "data": {
      "application/vnd.jupyter.widget-view+json": {
       "version_major": 2,
       "version_minor": 0,
       "model_id": "5d2caf56b49747128cd2f10ab786fa1c"
      },
      "text/plain": [
       "  0%|          | 0/336 [00:00<?, ?it/s]"
      ]
     },
     "metadata": {}
    }
   ],
   "metadata": {}
  },
  {
   "cell_type": "markdown",
   "source": [
    "## Skew Markov"
   ],
   "metadata": {}
  },
  {
   "cell_type": "code",
   "execution_count": 6,
   "source": [
    "csm.markov_skew_normal_synthesis(list_indices=list_indices,\n",
    "\t\t\t\t\t\t\t\tlist_single=list_single, \n",
    "\t\t\t\t\t\t\t\tpath_amp=path_amp,\n",
    "\t\t\t\t\t\t\t\tpath_vol=path_vol,\n",
    "\t\t\t\t\t\t\t\tpath_output=path_output_skew,\n",
    "\t\t\t\t\t\t\t\tgamma_f0 = 1,\n",
    "\t\t\t\t\t\t\t\tgamma_amp= 0.8,\n",
    "\t\t\t\t\t\t\t\tsigma_f0 = 0.008, \n",
    "\t\t\t\t\t\t\t\tsigma_amp = 0.03, \n",
    "\t\t\t\t\t\t\t\tnum_samples = 600,\n",
    "\t\t\t\t\t\t\t\tlen_support_points = 512,\n",
    "\t\t\t\t\t\t\t\tsr = 44100,\n",
    "\t\t\t\t\t\t\t\tnum_partials = 80\n",
    "\t\t\t\t\t\t\t\t)"
   ],
   "outputs": [
    {
     "output_type": "display_data",
     "data": {
      "application/vnd.jupyter.widget-view+json": {
       "version_major": 2,
       "version_minor": 0,
       "model_id": "9dcac1696ba4455d8c82faf27c922a27"
      },
      "text/plain": [
       "  0%|          | 0/336 [00:00<?, ?it/s]"
      ]
     },
     "metadata": {}
    }
   ],
   "metadata": {}
  }
 ],
 "metadata": {
  "orig_nbformat": 4,
  "language_info": {
   "name": "python",
   "version": "3.7.11",
   "mimetype": "text/x-python",
   "codemirror_mode": {
    "name": "ipython",
    "version": 3
   },
   "pygments_lexer": "ipython3",
   "nbconvert_exporter": "python",
   "file_extension": ".py"
  },
  "kernelspec": {
   "name": "python3",
   "display_name": "Python 3.7.11 64-bit (conda)"
  },
  "interpreter": {
   "hash": "92f8f3e49b1beac8c09f81e07cb00b736711229fb5a7ca0a5fed05c874713b96"
  }
 },
 "nbformat": 4,
 "nbformat_minor": 2
}